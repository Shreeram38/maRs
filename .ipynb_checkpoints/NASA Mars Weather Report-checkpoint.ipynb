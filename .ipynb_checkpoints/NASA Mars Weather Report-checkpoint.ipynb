{
 "cells": [
  {
   "cell_type": "markdown",
   "metadata": {},
   "source": [
    "# Metadata\n",
    "---\n",
    "`AT` per-Sol atmospheric temperature sensor summary data\n",
    "\n",
    "`HWS` per-Sol horizontal wind speed sensor summary data\n",
    "\n",
    "`PRE` per-Sol atmospheric pressure sensor summary data\n",
    "\n",
    "`WD` per-Sol wind direction sensor summary data\n",
    "\n",
    "`Season` per-Sol season on Mars; one of [“winter”, “spring”, “summer”, “fall”]\n",
    "\n",
    "`First_UTC` Time of first datum, of any sensor, for the Sol (UTC; YYYY-MM-DDTHH:MM:SSZ)\n",
    "\n",
    "`Last_UTC` Time of last datum, of any sensor, for the Sol (UTC; YYYY-MM-DDTHH:MM:SSZ)\n",
    "\n",
    "`av` Average of samples over the Sol (°F for AT; m/s for HWS; Pa for PRE)\n",
    "\n",
    "`ct` Total number of recorded samples over the Sol\n",
    "\n",
    "`mn` Minimum data sample over the sol (same units as av)\n",
    "\n",
    "`mx` Maximum data sample over the sol (same units as av)\n",
    "\n",
    "\n",
    "[more](https://api.nasa.gov/assets/insight/InSight%20Weather%20API%20Documentation.pdf)\n",
    "\n",
    "---"
   ]
  },
  {
   "cell_type": "code",
   "execution_count": 1,
   "metadata": {},
   "outputs": [],
   "source": [
    "import requests, json, os, warnings, re\n",
    "import pandas as pd\n",
    "import datetime\n",
    "import matplotlib.pyplot as plt"
   ]
  },
  {
   "cell_type": "code",
   "execution_count": null,
   "metadata": {},
   "outputs": [],
   "source": [
    "domain = \"https://api.nasa.gov\" # The domain name\n",
    "request_contributors = \"/insight_weather/?api_key=hecLCNM6NcwAGgGGWSW2xovr0SyYuXiOShVw6GxS&feedtype=json&ver=1.0\" # our request\n",
    "\n",
    "response = requests.get(domain + request_contributors)\n",
    "\n",
    "print(\"Status: {} - {}\".format(response.status_code, response.reason))"
   ]
  },
  {
   "cell_type": "code",
   "execution_count": null,
   "metadata": {},
   "outputs": [],
   "source": [
    "# one sol = 1 week on Mars\n",
    "mars = response.json()\n",
    "mars[\"sol_keys\"]"
   ]
  },
  {
   "cell_type": "code",
   "execution_count": null,
   "metadata": {},
   "outputs": [],
   "source": [
    "# data for one sol\n",
    "pd.DataFrame(mars['401'])"
   ]
  },
  {
   "cell_type": "code",
   "execution_count": null,
   "metadata": {},
   "outputs": [],
   "source": [
    "# wind direction data for one sol\n",
    "pd.DataFrame(mars['407']['WD'])"
   ]
  },
  {
   "cell_type": "code",
   "execution_count": null,
   "metadata": {},
   "outputs": [],
   "source": []
  }
 ],
 "metadata": {
  "kernelspec": {
   "display_name": "Python 3",
   "language": "python",
   "name": "python3"
  },
  "language_info": {
   "codemirror_mode": {
    "name": "ipython",
    "version": 3
   },
   "file_extension": ".py",
   "mimetype": "text/x-python",
   "name": "python",
   "nbconvert_exporter": "python",
   "pygments_lexer": "ipython3",
   "version": "3.7.4"
  }
 },
 "nbformat": 4,
 "nbformat_minor": 2
}
